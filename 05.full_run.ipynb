{
 "cells": [
  {
   "cell_type": "code",
   "execution_count": 0,
   "metadata": {
    "application/vnd.databricks.v1+cell": {
     "cellMetadata": {
      "byteLimit": 2048000,
      "rowLimit": 10000
     },
     "inputWidgets": {},
     "nuid": "ed1b08a4-dd7d-4ed1-9cb8-e0541737f287",
     "showTitle": false,
     "tableResultSettingsMap": {},
     "title": ""
    }
   },
   "outputs": [
    {
     "output_type": "display_data",
     "data": {
      "text/plain": [
       ""
      ]
     },
     "metadata": {
      "application/vnd.databricks.v1+output": {
       "arguments": {},
       "data": "",
       "errorSummary": "The execution of this command did not finish successfully",
       "errorTraceType": "ansi",
       "metadata": {},
       "type": "ipynbError"
      }
     },
     "output_type": "display_data"
    }
   ],
   "source": [
    "%run ./01.setup"
   ]
  },
  {
   "cell_type": "code",
   "execution_count": 0,
   "metadata": {
    "application/vnd.databricks.v1+cell": {
     "cellMetadata": {
      "byteLimit": 2048000,
      "rowLimit": 10000
     },
     "inputWidgets": {},
     "nuid": "8862f6d8-c063-4283-926f-482c1277260a",
     "showTitle": false,
     "tableResultSettingsMap": {},
     "title": ""
    }
   },
   "outputs": [
    {
     "output_type": "stream",
     "name": "stdout",
     "output_type": "stream",
     "text": [
      "+--------+---------+------------+--------------+----------+\n|app_name| contract|         mac|total_duration|  log_date|\n+--------+---------+------------+--------------+----------+\n|   KPLUS|HNH579912|0C96E62FC55C|           254|2022-04-01|\n|   KPLUS|HUFD40665|CCEDDC333614|          1457|2022-04-01|\n|   KPLUS|HNH572635|B068E6A1C5F6|          2318|2022-04-01|\n|   KPLUS|HND141717|08674EE8D2C2|          1452|2022-04-01|\n|   KPLUS|HNH743103|402343C25D7D|           251|2022-04-01|\n|   KPLUS|HNH893773|B84DEE76D3B8|           924|2022-04-01|\n|   KPLUS|HND083642|B84DEE849A0F|          1444|2022-04-01|\n|   KPLUS|DNFD74404|90324BB44C39|           691|2022-04-01|\n|   KPLUS|DTFD21200|B84DEED27709|          1436|2022-04-01|\n|   KPLUS|LDFD05747|0C96E6C95E53|          1434|2022-04-01|\n|   KPLUS|HNH063566|B84DEEDD1C85|           687|2022-04-01|\n|   KPLUS|HNH866786|10394E2790A5|           248|2022-04-01|\n|   KPLUS|NBAAA1128|10394E47C1AF|           247|2022-04-01|\n|   KPLUS|HNH960439|B84DEED34371|           683|2022-04-01|\n|   KPLUS|HNJ035736|CCD4A1FA86A5|           246|2022-04-01|\n|   KPLUS|NTFD93673|B84DEEEF4763|          2288|2022-04-01|\n|   KPLUS|HNJ063267|10394E172CA7|          2282|2022-04-01|\n|   KPLUS|HNH790383|4CEBBD53378B|           906|2022-04-01|\n|   KPLUS|THFD12466|5CEA1D893E1C|           242|2022-04-01|\n|   KPLUS|HNH566080|802BF9E0DDC0|           242|2022-04-01|\n+--------+---------+------------+--------------+----------+\nonly showing top 20 rows\n\n"
     ]
    },
    {
     "output_type": "stream",
     "name": "stdout",
     "output_type": "stream",
     "text": [
      "Out[11]: [FileInfo(path='dbfs:/mnt/simple_etl_adls2/bronze/_delta_log/', name='_delta_log/', size=0, modificationTime=1755405788000),\n FileInfo(path='dbfs:/mnt/simple_etl_adls2/bronze/part-00000-0b36cd3f-975c-4039-b284-1f126c81a45f-c000.snappy.parquet', name='part-00000-0b36cd3f-975c-4039-b284-1f126c81a45f-c000.snappy.parquet', size=4011029, modificationTime=1755405805000),\n FileInfo(path='dbfs:/mnt/simple_etl_adls2/bronze/part-00001-0d1790dd-14be-45d7-9cd2-6db484df4ade-c000.snappy.parquet', name='part-00001-0d1790dd-14be-45d7-9cd2-6db484df4ade-c000.snappy.parquet', size=3962699, modificationTime=1755405818000),\n FileInfo(path='dbfs:/mnt/simple_etl_adls2/bronze/part-00002-948ca3b5-da99-4399-8cac-8f85e6a6d1f6-c000.snappy.parquet', name='part-00002-948ca3b5-da99-4399-8cac-8f85e6a6d1f6-c000.snappy.parquet', size=3871901, modificationTime=1755405819000),\n FileInfo(path='dbfs:/mnt/simple_etl_adls2/bronze/part-00003-7bf1a8ce-daf2-4d4e-a562-5bf90aa78caf-c000.snappy.parquet', name='part-00003-7bf1a8ce-daf2-4d4e-a562-5bf90aa78caf-c000.snappy.parquet', size=3842896, modificationTime=1755405818000),\n FileInfo(path='dbfs:/mnt/simple_etl_adls2/bronze/part-00004-8d479c92-fbaa-48f8-8964-c74b88ad4646-c000.snappy.parquet', name='part-00004-8d479c92-fbaa-48f8-8964-c74b88ad4646-c000.snappy.parquet', size=3880814, modificationTime=1755405815000),\n FileInfo(path='dbfs:/mnt/simple_etl_adls2/bronze/part-00005-58481239-ac57-4cf5-ad57-ef14a6d07e9f-c000.snappy.parquet', name='part-00005-58481239-ac57-4cf5-ad57-ef14a6d07e9f-c000.snappy.parquet', size=3929226, modificationTime=1755405819000),\n FileInfo(path='dbfs:/mnt/simple_etl_adls2/bronze/part-00006-912cbeda-d196-489f-85f5-e12727896905-c000.snappy.parquet', name='part-00006-912cbeda-d196-489f-85f5-e12727896905-c000.snappy.parquet', size=4079038, modificationTime=1755405819000),\n FileInfo(path='dbfs:/mnt/simple_etl_adls2/bronze/part-00007-eb9cc19d-999c-406c-a10b-5fe1d1a5715e-c000.snappy.parquet', name='part-00007-eb9cc19d-999c-406c-a10b-5fe1d1a5715e-c000.snappy.parquet', size=3489783, modificationTime=1755405816000)]"
     ]
    }
   ],
   "source": [
    "%run ./02.bronze\n"
   ]
  },
  {
   "cell_type": "code",
   "execution_count": 0,
   "metadata": {
    "application/vnd.databricks.v1+cell": {
     "cellMetadata": {
      "byteLimit": 2048000,
      "rowLimit": 10000
     },
     "inputWidgets": {},
     "nuid": "21058c7e-de86-4d05-b6ff-e9bdb8536cd4",
     "showTitle": false,
     "tableResultSettingsMap": {},
     "title": ""
    }
   },
   "outputs": [],
   "source": [
    "%run ./03.silver\n"
   ]
  },
  {
   "cell_type": "code",
   "execution_count": 0,
   "metadata": {
    "application/vnd.databricks.v1+cell": {
     "cellMetadata": {},
     "inputWidgets": {},
     "nuid": "f06e17b6-0eff-40fe-83dd-3e84857e2c1a",
     "showTitle": false,
     "tableResultSettingsMap": {},
     "title": ""
    }
   },
   "outputs": [],
   "source": [
    "%run ./04.gold"
   ]
  }
 ],
 "metadata": {
  "application/vnd.databricks.v1+notebook": {
   "computePreferences": null,
   "dashboards": [],
   "environmentMetadata": {
    "base_environment": "",
    "environment_version": "1"
   },
   "inputWidgetPreferences": null,
   "language": "python",
   "notebookMetadata": {
    "pythonIndentUnit": 4
   },
   "notebookName": "05.full_run",
   "widgets": {}
  }
 },
 "nbformat": 4,
 "nbformat_minor": 0
}