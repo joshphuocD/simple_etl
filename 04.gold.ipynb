{
 "cells": [
  {
   "cell_type": "code",
   "execution_count": 0,
   "metadata": {
    "application/vnd.databricks.v1+cell": {
     "cellMetadata": {
      "byteLimit": 2048000,
      "rowLimit": 10000
     },
     "inputWidgets": {},
     "nuid": "cccd728c-9f1d-46b5-8016-3859dee10812",
     "showTitle": false,
     "tableResultSettingsMap": {},
     "title": ""
    }
   },
   "outputs": [],
   "source": [
    "from pyspark.sql import functions as F"
   ]
  },
  {
   "cell_type": "code",
   "execution_count": 0,
   "metadata": {
    "application/vnd.databricks.v1+cell": {
     "cellMetadata": {
      "byteLimit": 2048000,
      "rowLimit": 10000
     },
     "inputWidgets": {},
     "nuid": "9fee0970-c040-48f8-9cce-c5d265189d6d",
     "showTitle": false,
     "tableResultSettingsMap": {},
     "title": ""
    }
   },
   "outputs": [],
   "source": [
    "df = spark.read.format(\"delta\").load(\"/mnt/simple_etl_adls2/silver\")"
   ]
  },
  {
   "cell_type": "code",
   "execution_count": 0,
   "metadata": {
    "application/vnd.databricks.v1+cell": {
     "cellMetadata": {
      "byteLimit": 2048000,
      "rowLimit": 10000
     },
     "inputWidgets": {},
     "nuid": "d8609ff7-e228-451f-a55f-343e22ecd5ad",
     "showTitle": false,
     "tableResultSettingsMap": {},
     "title": ""
    }
   },
   "outputs": [],
   "source": [
    "#pivot type\n",
    "df = df.groupBy(\"contract\", \"log_date\").pivot(\"type\").sum(\"total_duration\")\n",
    "df = df.fillna(0)"
   ]
  },
  {
   "cell_type": "code",
   "execution_count": 0,
   "metadata": {
    "application/vnd.databricks.v1+cell": {
     "cellMetadata": {
      "byteLimit": 2048000,
      "rowLimit": 10000
     },
     "inputWidgets": {},
     "nuid": "8831c5b8-4f60-45ba-9f2d-93707f0cc5af",
     "showTitle": false,
     "tableResultSettingsMap": {},
     "title": ""
    }
   },
   "outputs": [],
   "source": [
    "df = (df.withColumnRenamed(\"Giai Tri\", \"giai_tri\")\n",
    "        .withColumnRenamed(\"Phim Truyen\", \"phim_truyen\")\n",
    "        .withColumnRenamed(\"The Thao\", \"the_thao\")\n",
    "        .withColumnRenamed(\"Thieu Nhi\", \"thieu_nhi\")\n",
    "        .withColumnRenamed(\"Truyen Hinh\", \"truyen_hinh\"))"
   ]
  },
  {
   "cell_type": "code",
   "execution_count": 0,
   "metadata": {
    "application/vnd.databricks.v1+cell": {
     "cellMetadata": {
      "byteLimit": 2048000,
      "rowLimit": 10000
     },
     "inputWidgets": {},
     "nuid": "90f57e45-c91d-4ddd-9383-0fbd712a1ce2",
     "showTitle": false,
     "tableResultSettingsMap": {},
     "title": ""
    }
   },
   "outputs": [],
   "source": [
    "# Define the category columns\n",
    "category = [\"giai_tri\", \"phim_truyen\", \"the_thao\", \"thieu_nhi\", \"truyen_hinh\"]\n",
    "\n",
    "# Compute the max value across those columns\n",
    "df = df.withColumn(\"max_duration\", F.greatest(*[F.col(c) for c in category]))\n",
    "\n",
    "# Determine the label that corresponds to the max value\n",
    "df = df.withColumn(\"most_watch\",\n",
    "    F.when(F.col(\"max_duration\") == F.col(\"giai_tri\"), \"Giai Tri\")\n",
    "     .when(F.col(\"max_duration\") == F.col(\"phim_truyen\"), \"Phim Truyen\")\n",
    "     .when(F.col(\"max_duration\") == F.col(\"the_thao\"), \"The Thao\")\n",
    "     .when(F.col(\"max_duration\") == F.col(\"thieu_nhi\"), \"Thieu Nhi\")\n",
    "     .when(F.col(\"max_duration\") == F.col(\"truyen_hinh\"), \"Truyen Hinh\")\n",
    "     .otherwise(None)\n",
    ")\n",
    "\n",
    "# Drop the intermediate column\n",
    "df = df.drop(\"max_duration\")"
   ]
  },
  {
   "cell_type": "code",
   "execution_count": 0,
   "metadata": {
    "application/vnd.databricks.v1+cell": {
     "cellMetadata": {
      "byteLimit": 2048000,
      "rowLimit": 10000
     },
     "inputWidgets": {},
     "nuid": "3ad87b00-3230-4331-94dd-754e8c22c611",
     "showTitle": false,
     "tableResultSettingsMap": {},
     "title": ""
    }
   },
   "outputs": [],
   "source": [
    "\n",
    "#generate customers' taste by concatenate the categories they have used\n",
    "category = [\"giai_tri\", \"phim_truyen\", \"the_thao\", \"thieu_nhi\", \"truyen_hinh\"]\n",
    "taste_flags = [F.when(F.col(c).isNotNull(), F.lit(c)) for c in category]\n",
    "df = df.withColumn(\"taste\", F.concat_ws(\"-\", *taste_flags))"
   ]
  },
  {
   "cell_type": "code",
   "execution_count": 0,
   "metadata": {
    "application/vnd.databricks.v1+cell": {
     "cellMetadata": {
      "byteLimit": 2048000,
      "rowLimit": 10000
     },
     "inputWidgets": {},
     "nuid": "51b3fe2d-e99a-4463-bd0d-d51fdb016efb",
     "showTitle": false,
     "tableResultSettingsMap": {},
     "title": ""
    }
   },
   "outputs": [],
   "source": [
    "#calculate customers'activeness: being active more than 4 days considering High, otherwise Low\n",
    "active_df = df.groupBy(\"contract\").agg(F.countDistinct(\"log_date\").alias(\"day_count\"))\n",
    "\n",
    "df = (df.join(active_df, on=\"contract\", how=\"left\")\n",
    "        .drop(\"log_date\")\n",
    "        .withColumn(\"active\", F.when (F.col(\"day_count\") > 4, \"High\").otherwise(\"Low\"))\n",
    "        .drop(\"day_count\"))\n",
    "\n",
    "del active_df\n",
    "\n",
    "df = df.groupBy(\"contract\").agg(\n",
    "        F.sum(\"giai_tri\").alias(\"total_giai_tri\"),\n",
    "        F.sum(\"phim_truyen\").alias(\"total_phim_truyen\"),\n",
    "        F.sum(\"the_thao\").alias(\"total_the_thao\"),\n",
    "        F.sum(\"truyen_hinh\").alias(\"total_truyen_hinh\"),\n",
    "        F.first(\"most_watch\").alias(\"most_watch\"),\n",
    "        F.first(\"taste\").alias(\"taste\"),\n",
    "        F.first(\"active\").alias(\"active\")\n",
    ")"
   ]
  },
  {
   "cell_type": "code",
   "execution_count": 0,
   "metadata": {
    "application/vnd.databricks.v1+cell": {
     "cellMetadata": {
      "byteLimit": 2048000,
      "rowLimit": 10000
     },
     "inputWidgets": {},
     "nuid": "6716f7a3-b195-40b9-b8e2-57cf881826f1",
     "showTitle": false,
     "tableResultSettingsMap": {},
     "title": ""
    }
   },
   "outputs": [],
   "source": [
    "#save to gold table\n",
    "(df.write.format(\"delta\")\n",
    "        .mode(\"overwrite\")\n",
    "        .save(\"/mnt/simple_etl_adls2/gold\"))"
   ]
  }
 ],
 "metadata": {
  "application/vnd.databricks.v1+notebook": {
   "computePreferences": null,
   "dashboards": [],
   "environmentMetadata": {
    "base_environment": "",
    "environment_version": "1"
   },
   "inputWidgetPreferences": null,
   "language": "python",
   "notebookMetadata": {
    "pythonIndentUnit": 4
   },
   "notebookName": "04.gold",
   "widgets": {}
  }
 },
 "nbformat": 4,
 "nbformat_minor": 0
}