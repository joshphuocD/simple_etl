{
 "cells": [
  {
   "cell_type": "code",
   "execution_count": 0,
   "metadata": {
    "application/vnd.databricks.v1+cell": {
     "cellMetadata": {
      "byteLimit": 2048000,
      "rowLimit": 10000
     },
     "inputWidgets": {},
     "nuid": "d5637f63-4089-4a82-bddd-9528b7316a13",
     "showTitle": false,
     "tableResultSettingsMap": {},
     "title": ""
    }
   },
   "outputs": [],
   "source": [
    "from pyspark.sql import functions as F"
   ]
  },
  {
   "cell_type": "code",
   "execution_count": 0,
   "metadata": {
    "application/vnd.databricks.v1+cell": {
     "cellMetadata": {
      "byteLimit": 2048000,
      "rowLimit": 10000
     },
     "inputWidgets": {},
     "nuid": "bd2d3a55-088a-46ef-b936-ccfd00735bfe",
     "showTitle": false,
     "tableResultSettingsMap": {},
     "title": ""
    }
   },
   "outputs": [],
   "source": [
    "df = spark.read.format(\"delta\").load(\"/mnt/simple_etl_adls2/bronze\")"
   ]
  },
  {
   "cell_type": "code",
   "execution_count": 0,
   "metadata": {
    "application/vnd.databricks.v1+cell": {
     "cellMetadata": {
      "byteLimit": 2048000,
      "rowLimit": 10000
     },
     "inputWidgets": {},
     "nuid": "9f55873a-0bef-4405-b7c1-42d713ab2e44",
     "showTitle": false,
     "tableResultSettingsMap": {},
     "title": ""
    }
   },
   "outputs": [],
   "source": [
    "# categorize app_name\n",
    "df = df.withColumn(\"type\",F.when(F.col(\"app_name\")==\"CHANNEL\",\"Truyen Hinh\")\n",
    "        .when(F.col(\"app_name\")==\"RELAX\",\"Giai Tri\")\n",
    "        .when(F.col(\"app_name\")==\"CHILD\",\"Thieu Nhi\")\n",
    "        .when((F.col(\"app_name\")==\"FIMS\")|(F.col(\"app_name\")==\"VOD\"),\"Phim Truyen\")\n",
    "        .when((F.col(\"app_name\")==\"KPLUS\")|(F.col(\"app_name\")==\"SPORT\"),\"The Thao\")\n",
    "    )"
   ]
  },
  {
   "cell_type": "code",
   "execution_count": 0,
   "metadata": {
    "application/vnd.databricks.v1+cell": {
     "cellMetadata": {
      "byteLimit": 2048000,
      "rowLimit": 10000
     },
     "inputWidgets": {},
     "nuid": "44230e5c-2577-4cff-97d8-d72e9f5b9858",
     "showTitle": false,
     "tableResultSettingsMap": {},
     "title": ""
    }
   },
   "outputs": [],
   "source": [
    "# remove error or null\n",
    "df = df.select('contract','type','total_duration','log_date')\n",
    "df = df.filter(df.contract != '0' )\n",
    "df = df.filter(df.type != 'Error')"
   ]
  },
  {
   "cell_type": "code",
   "execution_count": 0,
   "metadata": {
    "application/vnd.databricks.v1+cell": {
     "cellMetadata": {
      "byteLimit": 2048000,
      "rowLimit": 10000
     },
     "inputWidgets": {},
     "nuid": "ced7a99a-9ae3-4a22-a7d2-30e00dcf3237",
     "showTitle": false,
     "tableResultSettingsMap": {},
     "title": ""
    }
   },
   "outputs": [],
   "source": [
    "(df.write.format(\"delta\")\n",
    "        .mode(\"overwrite\")\n",
    "        .option(\"overwriteSchema\", \"true\")\n",
    "        .save(\"/mnt/simple_etl_adls2/silver\"))"
   ]
  }
 ],
 "metadata": {
  "application/vnd.databricks.v1+notebook": {
   "computePreferences": null,
   "dashboards": [],
   "environmentMetadata": {
    "base_environment": "",
    "environment_version": "1"
   },
   "inputWidgetPreferences": null,
   "language": "python",
   "notebookMetadata": {
    "pythonIndentUnit": 4
   },
   "notebookName": "03.silver",
   "widgets": {}
  }
 },
 "nbformat": 4,
 "nbformat_minor": 0
}